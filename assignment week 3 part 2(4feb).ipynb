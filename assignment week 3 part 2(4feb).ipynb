{
 "cells": [
  {
   "cell_type": "code",
   "execution_count": 1,
   "id": "782402e7-f74c-4b93-848e-c3177fd05d8f",
   "metadata": {},
   "outputs": [],
   "source": [
    "#Question 1"
   ]
  },
  {
   "cell_type": "code",
   "execution_count": 12,
   "id": "d4cce4ec-7812-4c70-bc0b-8e5a4ac04e22",
   "metadata": {},
   "outputs": [
    {
     "name": "stdout",
     "output_type": "stream",
     "text": [
      "('virat kohli', 24936)\n",
      "('jack kallis', 25534)\n",
      "('ricky ponting', 27483)\n",
      "('sachin tendulkar', 34357)\n"
     ]
    }
   ],
   "source": [
    "l = [('sachin tendulkar', 34357), ('ricky ponting', 27483), ('jack kallis', 25534), ('virat kohli', 24936)]\n",
    "l1 = sorted( l , key=lambda x: x[1])\n",
    "for i in l1:\n",
    "    print (i)"
   ]
  },
  {
   "cell_type": "code",
   "execution_count": null,
   "id": "3d37930f-c1da-43b4-850c-17dfd83f5937",
   "metadata": {},
   "outputs": [],
   "source": []
  },
  {
   "cell_type": "code",
   "execution_count": 13,
   "id": "603cf1fc-ef00-4e6b-9397-629927fba536",
   "metadata": {},
   "outputs": [],
   "source": [
    "#Question 2"
   ]
  },
  {
   "cell_type": "code",
   "execution_count": 17,
   "id": "1e36abd4-60d0-4c63-a1f7-0b4350341c7d",
   "metadata": {},
   "outputs": [
    {
     "name": "stdout",
     "output_type": "stream",
     "text": [
      "[1, 4, 9, 16, 25, 36, 49, 64, 81, 100]\n"
     ]
    }
   ],
   "source": [
    "f = [1,2,3,4,5,6,7,8,9,10]\n",
    "f2 = list(map(lambda x: x**2,f))\n",
    "print (f2)"
   ]
  },
  {
   "cell_type": "code",
   "execution_count": null,
   "id": "3a3f344e-163c-4e24-9eda-b17d4b8ca8e0",
   "metadata": {},
   "outputs": [],
   "source": []
  },
  {
   "cell_type": "code",
   "execution_count": 18,
   "id": "e718ad95-53dc-4462-b619-1491cbf8f9c2",
   "metadata": {},
   "outputs": [],
   "source": [
    "#Question 3"
   ]
  },
  {
   "cell_type": "code",
   "execution_count": 24,
   "id": "2f402fc8-5f34-401b-879a-af70764592fe",
   "metadata": {},
   "outputs": [
    {
     "name": "stdout",
     "output_type": "stream",
     "text": [
      "('1', '2', '3', '4', '5', '6', '7', '8', '9', '10')\n"
     ]
    }
   ],
   "source": [
    "q = [1,2,3,4,5,6,7,8,9,10]\n",
    "q2 = tuple(map(lambda x:str (x), q )) \n",
    "print (q2)"
   ]
  },
  {
   "cell_type": "code",
   "execution_count": null,
   "id": "29943dfe-8bf2-4d3d-be79-59795f9b52bf",
   "metadata": {},
   "outputs": [],
   "source": []
  },
  {
   "cell_type": "code",
   "execution_count": 25,
   "id": "2d88e63c-8b26-45c2-b1d2-67c04ae89eb3",
   "metadata": {},
   "outputs": [],
   "source": [
    "#Question 4"
   ]
  },
  {
   "cell_type": "code",
   "execution_count": 31,
   "id": "cc8da2cf-a19f-4b09-ab76-499e54967ed4",
   "metadata": {},
   "outputs": [
    {
     "name": "stdout",
     "output_type": "stream",
     "text": [
      "15511210043330985984000000\n"
     ]
    }
   ],
   "source": [
    "from functools import reduce\n",
    "\n",
    "n = list(range(1,26))\n",
    "n2 = reduce(lambda x,y : x*y,n)\n",
    "print(n2)"
   ]
  },
  {
   "cell_type": "code",
   "execution_count": null,
   "id": "7797cf75-3e9a-4eaf-b7ba-26611da1a315",
   "metadata": {},
   "outputs": [],
   "source": []
  },
  {
   "cell_type": "code",
   "execution_count": 32,
   "id": "8de33b96-ef7e-413a-9c23-430e1ecd9d04",
   "metadata": {},
   "outputs": [],
   "source": [
    "#Question 5"
   ]
  },
  {
   "cell_type": "code",
   "execution_count": 37,
   "id": "831053be-887d-4e85-8aa8-7ded3274c003",
   "metadata": {},
   "outputs": [
    {
     "name": "stdout",
     "output_type": "stream",
     "text": [
      "[6, 60, 90, 120]\n"
     ]
    }
   ],
   "source": [
    "s = [2, 3, 6, 9, 27, 60, 90, 120, 55, 46]\n",
    "s1 = list(filter(lambda s: s % 2 == 0 and s % 3 == 0,s))\n",
    "print (s1)"
   ]
  },
  {
   "cell_type": "code",
   "execution_count": null,
   "id": "a9159907-9a96-4fa2-ac5a-3ea3011ec4c8",
   "metadata": {},
   "outputs": [],
   "source": []
  },
  {
   "cell_type": "code",
   "execution_count": 38,
   "id": "9b167e54-86e6-4727-bb84-b894ca964c1a",
   "metadata": {},
   "outputs": [],
   "source": [
    "#Question 6"
   ]
  },
  {
   "cell_type": "code",
   "execution_count": null,
   "id": "5f47ac49-e1b3-406a-8793-2f8dd16453be",
   "metadata": {},
   "outputs": [],
   "source": [
    "r = ['python', 'php', 'aba', 'radar', 'level']\n",
    "r1 = list(filter(lambda x: x == x[::-1]))"
   ]
  }
 ],
 "metadata": {
  "kernelspec": {
   "display_name": "Python 3 (ipykernel)",
   "language": "python",
   "name": "python3"
  },
  "language_info": {
   "codemirror_mode": {
    "name": "ipython",
    "version": 3
   },
   "file_extension": ".py",
   "mimetype": "text/x-python",
   "name": "python",
   "nbconvert_exporter": "python",
   "pygments_lexer": "ipython3",
   "version": "3.10.8"
  }
 },
 "nbformat": 4,
 "nbformat_minor": 5
}
