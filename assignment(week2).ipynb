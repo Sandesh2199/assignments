{
 "cells": [
  {
   "cell_type": "code",
   "execution_count": null,
   "id": "8edbc728-913b-4e55-bd43-a055c91a701d",
   "metadata": {},
   "outputs": [],
   "source": [
    "#Question no.1"
   ]
  },
  {
   "cell_type": "raw",
   "id": "71108b39-b2d7-4ede-9cce-58ce9a8eb0b1",
   "metadata": {},
   "source": [
    "There are two types of comments in python:\n",
    "1)Single line - This is the type of comment where there is use of '#' symbol to address it.This comment will start and end up in the same line.\n",
    "2)Multi line - In this type of comments,the multiple lines will be named as the hashtag comments and it'll end in more than one line."
   ]
  },
  {
   "cell_type": "code",
   "execution_count": null,
   "id": "6c4aaab1-34c1-435a-9179-7ac75f722bbe",
   "metadata": {},
   "outputs": [],
   "source": []
  },
  {
   "cell_type": "code",
   "execution_count": 3,
   "id": "21dc8ae3-7609-4f16-9b95-b256337d91bf",
   "metadata": {},
   "outputs": [],
   "source": [
    "#Question no.2"
   ]
  },
  {
   "cell_type": "raw",
   "id": "49e6cc7a-0481-4fc1-bddc-79530664f147",
   "metadata": {},
   "source": [
    "Variables are nothing but reserved memory locations to store certain values. This means that when you create a variable you reserve some space in memory.Type of a variable, the interpreter allocates memory and decides what can be stored in the reserved memory. Therefore, by assigning different data types to variables, you can store integers, decimals or characters in these variables.There are various kinds of variables used in python:\n",
    "1)Integers : They are used for numbers, ( a = 2 )\n",
    "2)Float : They are used to refer decimal no.s (b = 5.66)\n",
    "3)Boolean : It is the true or false kind of variables ( c = True, d = False )\n",
    "4)Complex no.s: These numbers are the combinations of real and imaginary numbers and are seperated by the notation of 'j' as imaginary part. \n",
    "               ( e = 5+ 6j )\n",
    "5)String : They are used to contain the words in them and are usually in thr form of '' , \"\". ( f = \"pwskills\").\n",
    "6)Tuple : They are used to store multiple information into one fixed point which cannot be changed. (r = (56, \"for sake\"))\n",
    "7)List : they are used to store the multiple information which can be mutated. (l = [\"we\", 99, 45] )"
   ]
  },
  {
   "cell_type": "code",
   "execution_count": null,
   "id": "6ceb88a8-2ffa-4713-aca4-0329b06b8df3",
   "metadata": {},
   "outputs": [],
   "source": []
  },
  {
   "cell_type": "code",
   "execution_count": 1,
   "id": "e4843d8f-a7f1-46a2-a865-c7230c5cd6ee",
   "metadata": {},
   "outputs": [],
   "source": [
    "#Question no.4"
   ]
  },
  {
   "cell_type": "code",
   "execution_count": null,
   "id": "2b6e7129-6b72-428d-b098-33353bb34f42",
   "metadata": {},
   "outputs": [],
   "source": [
    "To write a python script from the command line ,these are the steps one needs to follow:\n",
    "#1 open command prompt.\n",
    "#2 create a new file with .py extension.\n",
    "#3 write a python code inside the file.\n",
    "#4 save the file.\n",
    "#5 go to the directory where the Python script is saved using the \"cd' command.\n",
    "#6 execute the Python script by running the python command followed by the name of the script file.\n",
    "#7 The script will be executed and the output will be on the command propmpt.\n"
   ]
  },
  {
   "cell_type": "code",
   "execution_count": null,
   "id": "66e23019-f914-4d29-8629-b1d9fdefef94",
   "metadata": {},
   "outputs": [],
   "source": []
  },
  {
   "cell_type": "code",
   "execution_count": 2,
   "id": "26c3dcbd-9c52-4975-ab34-cd4a2b81387a",
   "metadata": {},
   "outputs": [],
   "source": [
    "#Question no.3"
   ]
  },
  {
   "cell_type": "raw",
   "id": "964d38e0-8610-44a4-974e-086b25880625",
   "metadata": {},
   "source": [
    "There are two types of data conversion:\n",
    "1)Implicit data conversion: In this type the conversion is without telling the user that the data type is changed.\n",
    "2)Explicit data conversion : In this type of data conversion, the user involvement is needed to change the data type.This can be done with the help of str(), int(), float(), etc. functions.  "
   ]
  },
  {
   "cell_type": "code",
   "execution_count": 5,
   "id": "72c03070-37a0-4c8d-a545-f2fb401e2778",
   "metadata": {},
   "outputs": [
    {
     "name": "stdout",
     "output_type": "stream",
     "text": [
      "<class 'int'>\n",
      "<class 'float'>\n",
      "2.0\n",
      "<class 'float'>\n"
     ]
    }
   ],
   "source": [
    "## implicit data conversion \n",
    "a = 8\n",
    "print(type(a))\n",
    "b = 4.0\n",
    "print(type(b))\n",
    "\n",
    "c = a//b\n",
    "print(c)\n",
    "print(type(c))\n"
   ]
  },
  {
   "cell_type": "code",
   "execution_count": 16,
   "id": "9f6c529c-2e0b-485b-9f72-d9b78974da10",
   "metadata": {},
   "outputs": [
    {
     "name": "stdout",
     "output_type": "stream",
     "text": [
      "10\n",
      "<class 'str'>\n",
      "String: GFG\n",
      "Number: 50\n"
     ]
    }
   ],
   "source": [
    "##explicit data conversion\n",
    "# Python program to demonstrate type conversions of data types\n",
    "a = 10\n",
    "s = str(a)\n",
    "print(s)\n",
    "print(type(s))\n",
    " \n",
    "u = \"GFG\"\n",
    "v = 50\n",
    "\n",
    "print(\"String: \" + u + \"\\nNumber: \" + str(v))\n"
   ]
  },
  {
   "cell_type": "code",
   "execution_count": null,
   "id": "c77eb557-6f1a-4585-884b-d7064a165c25",
   "metadata": {},
   "outputs": [],
   "source": []
  },
  {
   "cell_type": "code",
   "execution_count": 1,
   "id": "84eb4724-9e5d-4b14-a82a-d9a67ac1b47a",
   "metadata": {},
   "outputs": [],
   "source": [
    "#Question no.5"
   ]
  },
  {
   "cell_type": "code",
   "execution_count": 2,
   "id": "f64f53e2-ff75-4d19-8ab3-30db373a43d2",
   "metadata": {},
   "outputs": [
    {
     "name": "stdout",
     "output_type": "stream",
     "text": [
      "[2, 3]\n"
     ]
    }
   ],
   "source": [
    "my_list = [1, 2, 3, 4, 5]\n",
    "sub_list = my_list[1:3]\n",
    "print(sub_list)"
   ]
  },
  {
   "cell_type": "code",
   "execution_count": null,
   "id": "5c26ddd8-0ddb-437c-948d-3f66edbcaa05",
   "metadata": {},
   "outputs": [],
   "source": []
  },
  {
   "cell_type": "code",
   "execution_count": 17,
   "id": "6f7b4672-d48d-4aad-9adc-ccac75649c83",
   "metadata": {},
   "outputs": [],
   "source": [
    "#Question no.6"
   ]
  },
  {
   "cell_type": "raw",
   "id": "41add5ed-fd03-4794-8203-c42928125d6d",
   "metadata": {},
   "source": [
    "In mathematics, a complex number is a number that comprises a real part and an imaginary part.It is expressed in the form \"a + bi,\" \n",
    "where \"a\" represents the real part,\"b\" represents the imaginary part, and \"i\" represents the imaginary unit (√-1).\n",
    "In Python, complex numbers are represented using the complex data type. You can create a complex number by using the syntax a + bj,\n",
    "where a is the real part, b is the imaginary part, and j is the imaginary unit. Here's an example: 8 + 9j."
   ]
  },
  {
   "cell_type": "code",
   "execution_count": null,
   "id": "08515143-aa20-433c-9197-8a2e1c238744",
   "metadata": {},
   "outputs": [],
   "source": []
  },
  {
   "cell_type": "code",
   "execution_count": 3,
   "id": "21b0a478-680e-4421-a8b0-159efadbfa57",
   "metadata": {},
   "outputs": [],
   "source": [
    "#Question no.7"
   ]
  },
  {
   "cell_type": "code",
   "execution_count": 5,
   "id": "e2bc3e53-4b0c-472e-ac62-bdda2d611952",
   "metadata": {},
   "outputs": [],
   "source": [
    "age = 25"
   ]
  },
  {
   "cell_type": "code",
   "execution_count": null,
   "id": "12d64b92-3fa5-4a01-979d-2346742e30cf",
   "metadata": {},
   "outputs": [],
   "source": []
  },
  {
   "cell_type": "code",
   "execution_count": 6,
   "id": "01adbdd5-0a99-4aa2-b116-8e4cb4d33c8e",
   "metadata": {},
   "outputs": [],
   "source": [
    "#Question no.8"
   ]
  },
  {
   "cell_type": "code",
   "execution_count": 8,
   "id": "b9e5cdc0-34ae-4a1f-a144-bce7a71c2958",
   "metadata": {},
   "outputs": [
    {
     "data": {
      "text/plain": [
       "float"
      ]
     },
     "execution_count": 8,
     "metadata": {},
     "output_type": "execute_result"
    }
   ],
   "source": [
    "price = 9.99\n",
    "type(price)"
   ]
  },
  {
   "cell_type": "code",
   "execution_count": null,
   "id": "6c4a8b21-7bed-4ed6-8ea2-92bce33c1a62",
   "metadata": {},
   "outputs": [],
   "source": []
  },
  {
   "cell_type": "code",
   "execution_count": 9,
   "id": "ec5ad3f2-2d39-4059-a7dd-9668ff43cd63",
   "metadata": {},
   "outputs": [],
   "source": [
    "#Question no.9"
   ]
  },
  {
   "cell_type": "code",
   "execution_count": 10,
   "id": "003f6565-1f51-4427-a476-ee1e7bcf291a",
   "metadata": {},
   "outputs": [
    {
     "name": "stdout",
     "output_type": "stream",
     "text": [
      "Sandesh jiwtode\n"
     ]
    }
   ],
   "source": [
    "name = \"Sandesh jiwtode\"\n",
    "print(name)"
   ]
  },
  {
   "cell_type": "code",
   "execution_count": null,
   "id": "fb578cae-fe6c-4fa2-8881-6516524cdb04",
   "metadata": {},
   "outputs": [],
   "source": []
  },
  {
   "cell_type": "code",
   "execution_count": 11,
   "id": "3b3ae1fc-82b7-4cb1-831e-6aecc11c3d1a",
   "metadata": {},
   "outputs": [],
   "source": [
    "#Question no.10"
   ]
  },
  {
   "cell_type": "code",
   "execution_count": 13,
   "id": "0ce82484-8bd0-4d7e-add2-efd86eeb2090",
   "metadata": {},
   "outputs": [
    {
     "name": "stdout",
     "output_type": "stream",
     "text": [
      "world\n"
     ]
    }
   ],
   "source": [
    "string = \"hello, world!\"\n",
    "sub_string = string[7:12]\n",
    "print(sub_string)"
   ]
  },
  {
   "cell_type": "code",
   "execution_count": null,
   "id": "3306bd11-5a47-443f-81f1-34b2daeba391",
   "metadata": {},
   "outputs": [],
   "source": []
  },
  {
   "cell_type": "code",
   "execution_count": 14,
   "id": "1e39f7b7-6a0f-4274-9257-7468321d9047",
   "metadata": {},
   "outputs": [],
   "source": [
    "#Question no.11"
   ]
  },
  {
   "cell_type": "code",
   "execution_count": 15,
   "id": "4b2fa0cc-4669-41ba-88d0-3d0491a151a2",
   "metadata": {},
   "outputs": [],
   "source": [
    "is_student = True"
   ]
  },
  {
   "cell_type": "code",
   "execution_count": null,
   "id": "ad53d730-51d3-46d0-b12a-cc2ca4989538",
   "metadata": {},
   "outputs": [],
   "source": []
  }
 ],
 "metadata": {
  "kernelspec": {
   "display_name": "Python 3 (ipykernel)",
   "language": "python",
   "name": "python3"
  },
  "language_info": {
   "codemirror_mode": {
    "name": "ipython",
    "version": 3
   },
   "file_extension": ".py",
   "mimetype": "text/x-python",
   "name": "python",
   "nbconvert_exporter": "python",
   "pygments_lexer": "ipython3",
   "version": "3.10.8"
  }
 },
 "nbformat": 4,
 "nbformat_minor": 5
}
