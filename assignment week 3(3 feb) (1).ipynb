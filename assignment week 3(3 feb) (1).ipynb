{
 "cells": [
  {
   "cell_type": "code",
   "execution_count": 1,
   "id": "9a9cd215-4561-4b3a-a4de-0343305dbf76",
   "metadata": {},
   "outputs": [],
   "source": [
    "#Question 1"
   ]
  },
  {
   "cell_type": "code",
   "execution_count": 10,
   "id": "e023dc12-d558-41e6-b186-84e0cb795174",
   "metadata": {},
   "outputs": [
    {
     "name": "stdout",
     "output_type": "stream",
     "text": [
      "[1, 3, 5, 7, 9, 11, 13, 15, 17, 19, 21, 23, 25]\n"
     ]
    }
   ],
   "source": [
    "def odd_numbers():\n",
    "    odd_nos = []\n",
    "    for (i) in range(1, 26):\n",
    "        if (i) % 2 != 0:\n",
    "            odd_nos.append(i)\n",
    "    return odd_nos\n",
    "result = odd_numbers()\n",
    "print(result)"
   ]
  },
  {
   "cell_type": "code",
   "execution_count": null,
   "id": "01233a57-d460-46d0-aada-b23ce54af76b",
   "metadata": {},
   "outputs": [],
   "source": []
  },
  {
   "cell_type": "code",
   "execution_count": null,
   "id": "afea986a-7c63-4ea2-8f84-195a988318d3",
   "metadata": {},
   "outputs": [],
   "source": [
    "#Question 2"
   ]
  },
  {
   "cell_type": "raw",
   "id": "dedc7d66-f169-4663-8577-83f3b9e2e519",
   "metadata": {},
   "source": [
    "The '*args' & '*kwargs' are used to pass n-number of arguments in a function.The basic diffrence between them is that *args is used for non keyword and **kwargs is used for keyword."
   ]
  },
  {
   "cell_type": "code",
   "execution_count": 18,
   "id": "f1ae119e-1e8e-47da-b175-74571fb3e0af",
   "metadata": {},
   "outputs": [],
   "source": [
    "def add(*i):\n",
    "    sum = 0\n",
    "    for n in i:\n",
    "        sum = sum + n\n",
    "    print(sum)"
   ]
  },
  {
   "cell_type": "code",
   "execution_count": 19,
   "id": "cc647cf3-a655-4e70-b522-33ac835b7bcf",
   "metadata": {},
   "outputs": [
    {
     "name": "stdout",
     "output_type": "stream",
     "text": [
      "14\n"
     ]
    }
   ],
   "source": [
    "add(9,5)"
   ]
  },
  {
   "cell_type": "code",
   "execution_count": 21,
   "id": "ddbc9a70-b602-48e3-8061-01febd9a730b",
   "metadata": {},
   "outputs": [
    {
     "name": "stdout",
     "output_type": "stream",
     "text": [
      "name: Alice\n",
      "age: 25\n",
      "city: New York\n"
     ]
    }
   ],
   "source": [
    "def greet(**kwargs):\n",
    "    for key, value in kwargs.items():\n",
    "        print(f\"{key}: {value}\")\n",
    "greet(name=\"dhoni\", age=42, team=\"ch\")\n"
   ]
  },
  {
   "cell_type": "code",
   "execution_count": null,
   "id": "df6bfaf2-084b-4423-a7bb-f9910c0ffbd5",
   "metadata": {},
   "outputs": [],
   "source": []
  },
  {
   "cell_type": "code",
   "execution_count": 17,
   "id": "35080989-8fa7-4f87-b86c-d9b2703e024a",
   "metadata": {},
   "outputs": [],
   "source": [
    "#Question 3"
   ]
  },
  {
   "cell_type": "raw",
   "id": "f94714e3-cc08-4b21-b59a-eb26824d6270",
   "metadata": {},
   "source": [
    "Iterator is an object that implements the iterator protocol consisting of two methods: __iter__() and __next__().\n",
    "1)The __iter__() method is used to initialize an iterator object. It returns the iterator object itself. \n",
    "2)The __next__() method is used to retrieve the next element from an iterator. It returns the next element in the sequence."
   ]
  },
  {
   "cell_type": "code",
   "execution_count": 19,
   "id": "49874173-c3f7-45d5-b3c0-8925a7b71b18",
   "metadata": {},
   "outputs": [
    {
     "name": "stdout",
     "output_type": "stream",
     "text": [
      "2\n",
      "4\n",
      "6\n",
      "8\n",
      "10\n"
     ]
    }
   ],
   "source": [
    "l = [2, 4, 6, 8, 10, 12, 14, 16, 18, 20]\n",
    "m = iter(l)\n",
    "\n",
    "for i in range(5):\n",
    "    n = next(m)\n",
    "    print(n)\n"
   ]
  },
  {
   "cell_type": "code",
   "execution_count": null,
   "id": "6ec2c6a3-2b33-4b3e-9f6f-c41110587092",
   "metadata": {},
   "outputs": [],
   "source": []
  },
  {
   "cell_type": "code",
   "execution_count": 3,
   "id": "0d9ef627-a56a-4a17-8111-9ed090400649",
   "metadata": {},
   "outputs": [],
   "source": [
    "#Question 4"
   ]
  },
  {
   "cell_type": "raw",
   "id": "040d7be4-0646-4b0b-8f3b-6ed39f957fb2",
   "metadata": {},
   "source": [
    "Generator is a function that iterates and produces a sequence of values when iterated over.\n",
    "Yield is used to produce a value from generator."
   ]
  },
  {
   "cell_type": "code",
   "execution_count": 5,
   "id": "3e81115e-a719-4c1e-8bfb-d295f2b4e8df",
   "metadata": {},
   "outputs": [
    {
     "name": "stdout",
     "output_type": "stream",
     "text": [
      "0\n",
      "1\n",
      "4\n",
      "9\n",
      "16\n"
     ]
    }
   ],
   "source": [
    "sq_gen = (i * i for i in range(5))\n",
    "for i in sq_gen:\n",
    "    print(i)"
   ]
  },
  {
   "cell_type": "code",
   "execution_count": null,
   "id": "44242f53-3124-478f-9488-bcb94a1e75e6",
   "metadata": {},
   "outputs": [],
   "source": []
  },
  {
   "cell_type": "code",
   "execution_count": 1,
   "id": "253fcacc-7426-4ce6-ace4-16c633991d9d",
   "metadata": {},
   "outputs": [],
   "source": [
    "#Question 5"
   ]
  },
  {
   "cell_type": "code",
   "execution_count": 20,
   "id": "f35f0000-e3b8-4bd1-991c-eab42075bfcd",
   "metadata": {},
   "outputs": [
    {
     "name": "stdout",
     "output_type": "stream",
     "text": [
      "2\n",
      "3\n",
      "5\n",
      "7\n",
      "11\n",
      "13\n",
      "17\n",
      "19\n",
      "23\n",
      "29\n",
      "31\n",
      "37\n",
      "41\n",
      "43\n",
      "47\n",
      "53\n",
      "59\n",
      "61\n",
      "67\n",
      "71\n"
     ]
    }
   ],
   "source": [
    "def prime_no():\n",
    "    primes = []\n",
    "    n = 2\n",
    "    while True:\n",
    "        if all(n % prime != 0 for prime in primes):\n",
    "            primes.append(n)\n",
    "            yield n\n",
    "        n += 1\n",
    "gen = prime_no()\n",
    "for _ in range(20):\n",
    "    prime = next(gen)\n",
    "    print(prime)\n",
    "\n",
    "        "
   ]
  },
  {
   "cell_type": "code",
   "execution_count": null,
   "id": "d9bd509d-2681-46f6-bd28-c8ba518ec80e",
   "metadata": {},
   "outputs": [],
   "source": []
  },
  {
   "cell_type": "code",
   "execution_count": 3,
   "id": "8a0483c9-da47-4910-ad2e-6b1aad79dcff",
   "metadata": {},
   "outputs": [],
   "source": [
    "#Question 6"
   ]
  },
  {
   "cell_type": "code",
   "execution_count": 17,
   "id": "5e92557f-81ce-46c3-8a0b-143a5c320f3e",
   "metadata": {},
   "outputs": [
    {
     "name": "stdout",
     "output_type": "stream",
     "text": [
      "0\n",
      "1\n",
      "1\n",
      "2\n",
      "3\n",
      "5\n",
      "8\n",
      "13\n",
      "21\n",
      "34\n"
     ]
    }
   ],
   "source": [
    "p,q = 0,1\n",
    "count = 0\n",
    "while count < 10:\n",
    "    print(p)\n",
    "    p,q = q, p+q\n",
    "    count += 1"
   ]
  },
  {
   "cell_type": "code",
   "execution_count": 14,
   "id": "a979caff-8a68-4883-8193-7b4aad1b6113",
   "metadata": {},
   "outputs": [],
   "source": [
    "#Question 7"
   ]
  },
  {
   "cell_type": "code",
   "execution_count": 2,
   "id": "b68ac145-896f-4a02-bce6-0ab497f2fbf8",
   "metadata": {},
   "outputs": [
    {
     "name": "stdout",
     "output_type": "stream",
     "text": [
      "['p', 'w', 's', 'k', 'i', 'l', 'l', 's']\n"
     ]
    }
   ],
   "source": [
    "a = 'pwskills'\n",
    "b = [c for c in a]\n",
    "print(b)"
   ]
  },
  {
   "cell_type": "code",
   "execution_count": null,
   "id": "99c8053b-dfbe-474d-bca5-580913e268cd",
   "metadata": {},
   "outputs": [],
   "source": []
  },
  {
   "cell_type": "code",
   "execution_count": 7,
   "id": "4564f3b7-70af-4a5b-b6a1-b3bb70642ebb",
   "metadata": {},
   "outputs": [],
   "source": [
    "#Question 8"
   ]
  },
  {
   "cell_type": "code",
   "execution_count": 13,
   "id": "bf21f6d0-edbd-4085-a06b-37633cd61c80",
   "metadata": {},
   "outputs": [
    {
     "name": "stdin",
     "output_type": "stream",
     "text": [
      "Enter a number:  898\n"
     ]
    },
    {
     "name": "stdout",
     "output_type": "stream",
     "text": [
      "898 is a palindrome.\n"
     ]
    }
   ],
   "source": [
    "def palindromes(n):\n",
    "    org_no = n \n",
    "    reverse_no = 0\n",
    "    while n > 0:\n",
    "        d = n % 10 \n",
    "        reverse_no = (reverse_no * 10) + d\n",
    "        n //= 10\n",
    "    if org_no == reverse_no:\n",
    "        return True\n",
    "    else:\n",
    "        return False\n",
    "n = int(input(\"Enter a number: \"))\n",
    "if palindromes(n):\n",
    "    print(f\"{n} is a palindrome.\")\n",
    "else:\n",
    "    print(f\"{n} is not a palindrome.\")\n"
   ]
  },
  {
   "cell_type": "code",
   "execution_count": null,
   "id": "124197f2-85cf-4673-a3e6-20efb3c3a13f",
   "metadata": {},
   "outputs": [],
   "source": []
  },
  {
   "cell_type": "code",
   "execution_count": 11,
   "id": "9a94d0d0-e071-4259-8c95-73f4d9848883",
   "metadata": {},
   "outputs": [],
   "source": [
    "#Question 9"
   ]
  },
  {
   "cell_type": "code",
   "execution_count": 15,
   "id": "1e8b8eeb-d5d6-4310-b925-58e39bc87545",
   "metadata": {},
   "outputs": [
    {
     "name": "stdout",
     "output_type": "stream",
     "text": [
      "[1, 3, 5, 7, 9, 11, 13, 15, 17, 19, 21, 23, 25, 27, 29, 31, 33, 35, 37, 39, 41, 43, 45, 47, 49, 51, 53, 55, 57, 59, 61, 63, 65, 67, 69, 71, 73, 75, 77, 79, 81, 83, 85, 87, 89, 91, 93, 95, 97, 99]\n"
     ]
    }
   ],
   "source": [
    "odd = [i for i in range(1, 101) if i % 2 != 0]\n",
    "print(odd)"
   ]
  },
  {
   "cell_type": "code",
   "execution_count": null,
   "id": "c8bf3451-c865-49c9-9a14-f162b9a90e0a",
   "metadata": {},
   "outputs": [],
   "source": []
  }
 ],
 "metadata": {
  "kernelspec": {
   "display_name": "Python 3 (ipykernel)",
   "language": "python",
   "name": "python3"
  },
  "language_info": {
   "codemirror_mode": {
    "name": "ipython",
    "version": 3
   },
   "file_extension": ".py",
   "mimetype": "text/x-python",
   "name": "python",
   "nbconvert_exporter": "python",
   "pygments_lexer": "ipython3",
   "version": "3.10.8"
  }
 },
 "nbformat": 4,
 "nbformat_minor": 5
}
