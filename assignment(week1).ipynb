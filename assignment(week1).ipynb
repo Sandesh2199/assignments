{
 "cells": [
  {
   "cell_type": "code",
   "execution_count": 1,
   "id": "e832b403-0240-405c-97f8-dc77128e9f44",
   "metadata": {},
   "outputs": [],
   "source": [
    "#question 1"
   ]
  },
  {
   "cell_type": "code",
   "execution_count": 1,
   "id": "c7af4dca-25ac-425d-903a-16a31248d797",
   "metadata": {},
   "outputs": [],
   "source": [
    "p = \" dhoni \""
   ]
  },
  {
   "cell_type": "code",
   "execution_count": 10,
   "id": "b93cb4e5-2dab-4213-a967-98efbd7b6cdf",
   "metadata": {},
   "outputs": [],
   "source": [
    "l = [ 89.23, \"dhoni\", True, \"jadeja\", 7, 78 ]"
   ]
  },
  {
   "cell_type": "code",
   "execution_count": 2,
   "id": "bfcfde2f-2dfc-488e-8407-1f0ac3c1303c",
   "metadata": {},
   "outputs": [],
   "source": [
    "q = 49.64"
   ]
  },
  {
   "cell_type": "code",
   "execution_count": 13,
   "id": "380ac5ba-28e8-4818-b44a-d32b87acb9f4",
   "metadata": {},
   "outputs": [],
   "source": [
    "t = ( 'google', 59+ 6j)"
   ]
  },
  {
   "cell_type": "code",
   "execution_count": null,
   "id": "bb2e829b-55d0-4451-a764-9780cc223f37",
   "metadata": {},
   "outputs": [],
   "source": []
  },
  {
   "cell_type": "code",
   "execution_count": 15,
   "id": "919fa5bf-4112-4981-81b6-0f5505b00ca1",
   "metadata": {},
   "outputs": [],
   "source": [
    "#question 2"
   ]
  },
  {
   "cell_type": "code",
   "execution_count": null,
   "id": "bf5eb0fd-e56c-418b-a0c4-9d8a72cd63f2",
   "metadata": {},
   "outputs": [],
   "source": [
    "str , str, list, float "
   ]
  },
  {
   "cell_type": "code",
   "execution_count": null,
   "id": "e8bd0a01-7dee-4f2b-b5c0-657dfa79cbde",
   "metadata": {},
   "outputs": [],
   "source": []
  },
  {
   "cell_type": "code",
   "execution_count": 18,
   "id": "ae79924e-8e6d-4055-ab87-8abeeb6e4171",
   "metadata": {},
   "outputs": [],
   "source": [
    "#question 3"
   ]
  },
  {
   "cell_type": "code",
   "execution_count": null,
   "id": "c456ddf7-8614-4a9a-8979-24d8f663a97d",
   "metadata": {},
   "outputs": [],
   "source": [
    "division, modulous, floor division, exponention"
   ]
  },
  {
   "cell_type": "code",
   "execution_count": null,
   "id": "ce1109c0-7d6c-424f-973c-517c4811570f",
   "metadata": {},
   "outputs": [],
   "source": []
  },
  {
   "cell_type": "code",
   "execution_count": 20,
   "id": "bbef8100-6280-44c9-90ff-dae5a4b390fd",
   "metadata": {},
   "outputs": [],
   "source": [
    "#question 4"
   ]
  },
  {
   "cell_type": "code",
   "execution_count": 22,
   "id": "44a8081e-05f2-401f-b7bd-c000d5a63942",
   "metadata": {},
   "outputs": [],
   "source": [
    "d = [\"sandesh\", 56, 125, True, False, \"rice\", 91.66, ('cricket','football'), 45+ 9j, \"ipl\"]"
   ]
  },
  {
   "cell_type": "code",
   "execution_count": 23,
   "id": "010d23d3-aca4-4e74-81a3-852b6c4d792b",
   "metadata": {},
   "outputs": [
    {
     "name": "stdout",
     "output_type": "stream",
     "text": [
      "<class 'str'>\n",
      "<class 'int'>\n",
      "<class 'int'>\n",
      "<class 'bool'>\n",
      "<class 'bool'>\n",
      "<class 'str'>\n",
      "<class 'float'>\n",
      "<class 'tuple'>\n",
      "<class 'complex'>\n",
      "<class 'str'>\n"
     ]
    }
   ],
   "source": [
    "for i in d:\n",
    "    print(type(i))"
   ]
  },
  {
   "cell_type": "code",
   "execution_count": null,
   "id": "07a02b65-b658-4291-abaa-f6c1f6ff7319",
   "metadata": {},
   "outputs": [],
   "source": []
  },
  {
   "cell_type": "code",
   "execution_count": 50,
   "id": "f55dc509-4f18-41d0-9e21-add21ec037b8",
   "metadata": {},
   "outputs": [],
   "source": [
    "#question 5"
   ]
  },
  {
   "cell_type": "code",
   "execution_count": 14,
   "id": "eec8070c-68d5-406f-9eda-96adb1065bce",
   "metadata": {},
   "outputs": [
    {
     "name": "stdin",
     "output_type": "stream",
     "text": [
      "enter a no. A 37\n",
      "enter a no. B 3\n"
     ]
    },
    {
     "name": "stdout",
     "output_type": "stream",
     "text": [
      "3 does not divide 37\n"
     ]
    }
   ],
   "source": [
    "a = int(input(\"enter a no. A\"))\n",
    "b = int(input(\"enter a no. B\"))\n",
    "count = 0\n",
    "while a % b == 0:\n",
    "    a = a//b\n",
    "    count += 1\n",
    "if count > 0:\n",
    "    print(f\"{count} times, {b} divides {a}\")\n",
    "else:          \n",
    "      print(f\"{b} does not divide {a}\")\n",
    "    "
   ]
  },
  {
   "cell_type": "code",
   "execution_count": null,
   "id": "73c8b5fd-0dab-4ec7-aae9-d421ac44e509",
   "metadata": {},
   "outputs": [],
   "source": []
  },
  {
   "cell_type": "code",
   "execution_count": 24,
   "id": "25ed464d-335e-4ae8-b250-d88a5dda1a99",
   "metadata": {},
   "outputs": [],
   "source": [
    "#question 6"
   ]
  },
  {
   "cell_type": "code",
   "execution_count": 9,
   "id": "ad994d87-9345-4bf1-b015-2189b4365640",
   "metadata": {},
   "outputs": [
    {
     "name": "stdout",
     "output_type": "stream",
     "text": [
      "divisible by 3\n",
      "divisible by 3\n",
      " not divisible by 3\n",
      " not divisible by 3\n",
      " not divisible by 3\n",
      " not divisible by 3\n",
      " not divisible by 3\n",
      " not divisible by 3\n",
      " not divisible by 3\n",
      " not divisible by 3\n",
      " not divisible by 3\n",
      " not divisible by 3\n",
      " not divisible by 3\n",
      "divisible by 3\n",
      " not divisible by 3\n",
      " not divisible by 3\n",
      "divisible by 3\n",
      " not divisible by 3\n",
      " not divisible by 3\n",
      " not divisible by 3\n",
      " not divisible by 3\n",
      "divisible by 3\n",
      " not divisible by 3\n",
      " not divisible by 3\n",
      " not divisible by 3\n"
     ]
    }
   ],
   "source": [
    "k = [51, 9, 59, 41, 11, 13, 62, 74, 7, 55, 14, 92, 31, 81, 100, 83, 6, 61, 80, 65, 67, 60, 16, 26, 50]\n",
    "for i in k:\n",
    "    if (i) % 3 :\n",
    "        print(\" not divisible by 3\")\n",
    "    else :\n",
    "        print(\"divisible by 3\")"
   ]
  },
  {
   "cell_type": "code",
   "execution_count": null,
   "id": "672e2c60-40e9-4ae1-937d-9608d5e1d2c6",
   "metadata": {},
   "outputs": [],
   "source": []
  },
  {
   "cell_type": "code",
   "execution_count": null,
   "id": "b53fc388-53de-4f55-b262-a56378cf0aa6",
   "metadata": {},
   "outputs": [],
   "source": [
    "#question 7"
   ]
  },
  {
   "cell_type": "code",
   "execution_count": null,
   "id": "bff41864-f912-4f33-89b8-16fcd4a193b0",
   "metadata": {},
   "outputs": [],
   "source": [
    "Mutable objects with examples: \n",
    "The object which allows to changes its value without changing its identity is a mutable object.\n",
    "Key points:\n",
    "\t-Objects can be changed\n",
    "\t-Generally provides method to edit elements\n",
    "\t-Easy to edit and efficient\n",
    "Examples :\n",
    "\t#\tList [ 49, 7+ 6j, \"raju\", True, (ipl,bbl)]\n",
    "\t#\tSet (1,2,3)\n",
    "Immutable objects with examples:\n",
    "The objects which can't be changed after its creation is called immutable objects.\n",
    "Key points:\n",
    "    -objects can\"t be changed.\n",
    "    -quicker to access.\n",
    "Examples :\n",
    "    #integers 45 \n",
    "    #boolean  True\n",
    "    #string \"sandesh\"\n",
    "    #floating point 48.69\n"
   ]
  },
  {
   "cell_type": "code",
   "execution_count": null,
   "id": "5fbba5a3-bfdd-49a1-b294-ca6c745475ed",
   "metadata": {},
   "outputs": [],
   "source": []
  }
 ],
 "metadata": {
  "kernelspec": {
   "display_name": "Python 3 (ipykernel)",
   "language": "python",
   "name": "python3"
  },
  "language_info": {
   "codemirror_mode": {
    "name": "ipython",
    "version": 3
   },
   "file_extension": ".py",
   "mimetype": "text/x-python",
   "name": "python",
   "nbconvert_exporter": "python",
   "pygments_lexer": "ipython3",
   "version": "3.10.8"
  }
 },
 "nbformat": 4,
 "nbformat_minor": 5
}
